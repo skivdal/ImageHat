{
 "cells": [
  {
   "cell_type": "code",
   "execution_count": null,
   "id": "44ac0c16",
   "metadata": {},
   "outputs": [],
   "source": [
    "import os\n",
    "import json\n",
    "import pandas as pd\n",
    "import numpy as np\n",
    "from sklearn.model_selection import train_test_split\n",
    "from sklearn.preprocessing import LabelEncoder, StandardScaler\n",
    "from sklearn.tree import DecisionTreeClassifier\n",
    "from sklearn.neighbors import KNeighborsClassifier\n",
    "from sklearn.metrics import classification_report, confusion_matrix\n",
    "import matplotlib.pyplot as plt\n",
    "import seaborn as sns\n",
    "from imagehat.parsers.jpeg_parser import JPEGParser"
   ]
  },
  {
   "cell_type": "code",
   "execution_count": null,
   "id": "593e650b",
   "metadata": {},
   "outputs": [],
   "source": [
    "\n",
    "def extract_ifd_order_vector(metadata):\n",
    "    tag_positions = {}\n",
    "    \n",
    "    # 0th IFD\n",
    "    ifds = metadata.get(\"APP1 Info\", {})\n",
    "    for section, section_data in ifds.items():\n",
    "        if isinstance(section_data, dict):\n",
    "            for tag, tagdata in section_data.items():\n",
    "                tag_name = f\"{section}_{tag}\"\n",
    "                order = tagdata.get(\"IFD Tag Order\")\n",
    "                if order is not None:\n",
    "                    tag_positions[tag_name] = order\n",
    "\n",
    "    return tag_positions\n"
   ]
  },
  {
   "cell_type": "code",
   "execution_count": null,
   "id": "2363649a",
   "metadata": {},
   "outputs": [],
   "source": [
    "\n",
    "def build_order_dataset(json_folder):\n",
    "    rows = []\n",
    "    labels = []\n",
    "\n",
    "    for root, _, files in os.walk(json_folder):\n",
    "        for file in files:\n",
    "            if file.endswith(\".json\"):\n",
    "                full_path = os.path.join(root, file)\n",
    "                with open(full_path, \"r\") as f:\n",
    "                    metadata = json.load(f)\n",
    "\n",
    "                tag_vector = extract_ifd_order_vector(metadata)\n",
    "\n",
    "                # Flatten brand + model from filename\n",
    "                filename = metadata.get(\"General File Info\", {}).get(\"file_name\", \"\")\n",
    "                brand_model = os.path.basename(filename).split(\"_0_\")[0]\n",
    "\n",
    "                rows.append(tag_vector)\n",
    "                labels.append(brand_model)\n",
    "\n",
    "    df = pd.DataFrame(rows).fillna(-1)\n",
    "    return df, labels"
   ]
  },
  {
   "cell_type": "code",
   "execution_count": null,
   "id": "20b8895e",
   "metadata": {},
   "outputs": [],
   "source": []
  },
  {
   "cell_type": "code",
   "execution_count": null,
   "id": "941b3149",
   "metadata": {},
   "outputs": [],
   "source": []
  }
 ],
 "metadata": {
  "kernelspec": {
   "display_name": "base",
   "language": "python",
   "name": "python3"
  },
  "language_info": {
   "name": "python",
   "version": "3.10.14"
  }
 },
 "nbformat": 4,
 "nbformat_minor": 5
}
