{
 "cells": [
  {
   "cell_type": "markdown",
   "id": "14a4085c",
   "metadata": {},
   "source": [
    "### General Aanlysis of Dresden and DivNoise\n"
   ]
  },
  {
   "cell_type": "code",
   "execution_count": 2,
   "id": "cafef00b",
   "metadata": {},
   "outputs": [],
   "source": [
    "import os\n",
    "import os.path\n",
    "import json"
   ]
  },
  {
   "cell_type": "code",
   "execution_count": 3,
   "id": "4303b1a1",
   "metadata": {},
   "outputs": [
    {
     "name": "stdout",
     "output_type": "stream",
     "text": [
      "Loaded 17242 entries from Dresden JSON.\n",
      "Loaded 15017 entries from DivNoise JSON.\n"
     ]
    }
   ],
   "source": [
    "dresden_json_path = r\"C:\\Users\\saete\\OneDrive\\Skrivebord\\dresden_images\\dresden_metadata_full.json\"\n",
    "divnoise_json_path = r\"C:\\Users\\saete\\OneDrive\\Skrivebord\\divnoise_images\\divnoise_dataset_full.json\"\n",
    "\n",
    "with open(dresden_json_path, 'r', encoding='utf-8') as f:\n",
    "    dresden_data = json.load(f)\n",
    "\n",
    "with open(divnoise_json_path, 'r', encoding='utf-8') as f:\n",
    "    divnoise_data = json.load(f)\n",
    "\n",
    "# Confirm load\n",
    "print(f\"Loaded {len(dresden_data)} entries from Dresden JSON.\")\n",
    "print(f\"Loaded {len(divnoise_data)} entries from DivNoise JSON.\")\n"
   ]
  },
  {
   "cell_type": "code",
   "execution_count": null,
   "id": "82c8d16a",
   "metadata": {},
   "outputs": [],
   "source": []
  }
 ],
 "metadata": {
  "kernelspec": {
   "display_name": "base",
   "language": "python",
   "name": "python3"
  },
  "language_info": {
   "codemirror_mode": {
    "name": "ipython",
    "version": 3
   },
   "file_extension": ".py",
   "mimetype": "text/x-python",
   "name": "python",
   "nbconvert_exporter": "python",
   "pygments_lexer": "ipython3",
   "version": "3.10.14"
  }
 },
 "nbformat": 4,
 "nbformat_minor": 5
}
